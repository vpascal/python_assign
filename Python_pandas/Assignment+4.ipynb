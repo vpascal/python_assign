{
 "cells": [
  {
   "cell_type": "markdown",
   "metadata": {},
   "source": [
    "---\n",
    "\n",
    "_You are currently looking at **version 1.1** of this notebook. To download notebooks and datafiles, as well as get help on Jupyter notebooks in the Coursera platform, visit the [Jupyter Notebook FAQ](https://www.coursera.org/learn/python-data-analysis/resources/0dhYG) course resource._\n",
    "\n",
    "---"
   ]
  },
  {
   "cell_type": "markdown",
   "metadata": {},
   "source": [
    "# Assignment 4 - Hypothesis Testing\n",
    "This assignment requires more individual learning than previous assignments - you are encouraged to check out the [pandas documentation](http://pandas.pydata.org/pandas-docs/stable/) to find functions or methods you might not have used yet, or ask questions on [Stack Overflow](http://stackoverflow.com/) and tag them as pandas and python related. And of course, the discussion forums are open for interaction with your peers and the course staff.\n",
    "\n",
    "Definitions:\n",
    "* A _quarter_ is a specific three month period, Q1 is January through March, Q2 is April through June, Q3 is July through September, Q4 is October through December.\n",
    "* A _recession_ is defined as starting with two consecutive quarters of GDP decline, and ending with two consecutive quarters of GDP growth.\n",
    "* A _recession bottom_ is the quarter within a recession which had the lowest GDP.\n",
    "* A _university town_ is a city which has a high percentage of university students compared to the total population of the city.\n",
    "\n",
    "**Hypothesis**: University towns have their mean housing prices less effected by recessions. Run a t-test to compare the ratio of the mean price of houses in university towns the quarter before the recession starts compared to the recession bottom. (`price_ratio=quarter_before_recession/recession_bottom`)\n",
    "\n",
    "The following data files are available for this assignment:\n",
    "* From the [Zillow research data site](http://www.zillow.com/research/data/) there is housing data for the United States. In particular the datafile for [all homes at a city level](http://files.zillowstatic.com/research/public/City/City_Zhvi_AllHomes.csv), ```City_Zhvi_AllHomes.csv```, has median home sale prices at a fine grained level.\n",
    "* From the Wikipedia page on college towns is a list of [university towns in the United States](https://en.wikipedia.org/wiki/List_of_college_towns#College_towns_in_the_United_States) which has been copy and pasted into the file ```university_towns.txt```.\n",
    "* From Bureau of Economic Analysis, US Department of Commerce, the [GDP over time](http://www.bea.gov/national/index.htm#gdp) of the United States in current dollars (use the chained value in 2009 dollars), in quarterly intervals, in the file ```gdplev.xls```. For this assignment, only look at GDP data from the first quarter of 2000 onward.\n",
    "\n",
    "Each function in this assignment below is worth 10%, with the exception of ```run_ttest()```, which is worth 50%."
   ]
  },
  {
   "cell_type": "code",
   "execution_count": 76,
   "metadata": {
    "collapsed": false
   },
   "outputs": [],
   "source": [
    "import pandas as pd\n",
    "import numpy as np\n",
    "from scipy.stats import ttest_ind"
   ]
  },
  {
   "cell_type": "code",
   "execution_count": 77,
   "metadata": {
    "collapsed": false
   },
   "outputs": [],
   "source": [
    "# Use this dictionary to map state names to two letter acronyms\n",
    "states = {'OH': 'Ohio', 'KY': 'Kentucky', 'AS': 'American Samoa', 'NV': 'Nevada', 'WY': 'Wyoming', 'NA': 'National', 'AL': 'Alabama', 'MD': 'Maryland', 'AK': 'Alaska', 'UT': 'Utah', 'OR': 'Oregon', 'MT': 'Montana', 'IL': 'Illinois', 'TN': 'Tennessee', 'DC': 'District of Columbia', 'VT': 'Vermont', 'ID': 'Idaho', 'AR': 'Arkansas', 'ME': 'Maine', 'WA': 'Washington', 'HI': 'Hawaii', 'WI': 'Wisconsin', 'MI': 'Michigan', 'IN': 'Indiana', 'NJ': 'New Jersey', 'AZ': 'Arizona', 'GU': 'Guam', 'MS': 'Mississippi', 'PR': 'Puerto Rico', 'NC': 'North Carolina', 'TX': 'Texas', 'SD': 'South Dakota', 'MP': 'Northern Mariana Islands', 'IA': 'Iowa', 'MO': 'Missouri', 'CT': 'Connecticut', 'WV': 'West Virginia', 'SC': 'South Carolina', 'LA': 'Louisiana', 'KS': 'Kansas', 'NY': 'New York', 'NE': 'Nebraska', 'OK': 'Oklahoma', 'FL': 'Florida', 'CA': 'California', 'CO': 'Colorado', 'PA': 'Pennsylvania', 'DE': 'Delaware', 'NM': 'New Mexico', 'RI': 'Rhode Island', 'MN': 'Minnesota', 'VI': 'Virgin Islands', 'NH': 'New Hampshire', 'MA': 'Massachusetts', 'GA': 'Georgia', 'ND': 'North Dakota', 'VA': 'Virginia'}"
   ]
  },
  {
   "cell_type": "code",
   "execution_count": 78,
   "metadata": {
    "collapsed": false
   },
   "outputs": [],
   "source": [
    "import pandas as pd\n",
    "\n",
    "def get_list_of_university_towns():\n",
    "    file = 'university_towns.txt'\n",
    "    \n",
    "    data=pd.read_csv(file, names=['data'],sep='\\n')\n",
    "    data.data = data.data.replace([\"\\n|\\r\"],[\"\"],regex=True)\n",
    "    #data.data = data.data.replace([\"\\(.*\\)\"],[\"\"],regex=True)\n",
    "    data.data = data.data.replace([\"\\[.*\\]\"],[\"\"],regex=True)\n",
    "    #data.data = data.data.replace([\"\\s\\(.*\"],[\"\"],regex=True)\n",
    "    data.data = data.data.str.split('(').apply(lambda x:  x[0])\n",
    "    data.data = data.data.str.strip()\n",
    "    \n",
    "    states = {'OH': 'Ohio', 'KY': 'Kentucky', 'AS': 'American Samoa', 'NV': 'Nevada', 'WY': 'Wyoming', 'NA': 'National', 'AL': 'Alabama', 'MD': 'Maryland', 'AK': 'Alaska', 'UT': 'Utah', 'OR': 'Oregon', 'MT': 'Montana', 'IL': 'Illinois', 'TN': 'Tennessee', 'DC': 'District of Columbia', 'VT': 'Vermont', 'ID': 'Idaho', 'AR': 'Arkansas', 'ME': 'Maine', 'WA': 'Washington', 'HI': 'Hawaii', 'WI': 'Wisconsin', 'MI': 'Michigan', 'IN': 'Indiana', 'NJ': 'New Jersey', 'AZ': 'Arizona', 'GU': 'Guam', 'MS': 'Mississippi', 'PR': 'Puerto Rico', 'NC': 'North Carolina', 'TX': 'Texas', 'SD': 'South Dakota', 'MP': 'Northern Mariana Islands', 'IA': 'Iowa', 'MO': 'Missouri', 'CT': 'Connecticut', 'WV': 'West Virginia', 'SC': 'South Carolina', 'LA': 'Louisiana', 'KS': 'Kansas', 'NY': 'New York', 'NE': 'Nebraska', 'OK': 'Oklahoma', 'FL': 'Florida', 'CA': 'California', 'CO': 'Colorado', 'PA': 'Pennsylvania', 'DE': 'Delaware', 'NM': 'New Mexico', 'RI': 'Rhode Island', 'MN': 'Minnesota', 'VI': 'Virgin Islands', 'NH': 'New Hampshire', 'MA': 'Massachusetts', 'GA': 'Georgia', 'ND': 'North Dakota', 'VA': 'Virginia'}\n",
    "     \n",
    "    # for Python 3 wrap states.items in the list\n",
    "    states = pd.DataFrame(list(states.items()), columns=['State_abbr', 'State_full'])\n",
    "    DataFrame = pd.merge(data,states,how=\"left\",left_on=\"data\",right_on=\"State_full\")\n",
    "     \n",
    "     # cool method\n",
    "    DataFrame = DataFrame.fillna(method='ffill')\n",
    "    DataFrame = DataFrame[DataFrame['data'] != DataFrame['State_full']]\n",
    "    vars=['data','State_full']\n",
    "    DataFrame=DataFrame[vars]\n",
    "    vars=['RegionName','State']\n",
    "    DataFrame.columns = vars\n",
    "    DataFrame = DataFrame[['State','RegionName']]\n",
    "    \n",
    "    # these have to be manually fixed since some towns have state names. Only three cases are identified\n",
    "    to_add = pd.DataFrame([['California','California'],['Delaware', 'Delaware'],['Indiana', 'Indiana']], columns=['State','RegionName'], index = [413,371,426])  \n",
    "    \n",
    "    DataFrame=DataFrame.append(to_add)   \n",
    "    DataFrame.index=range(DataFrame.shape[0])    \n",
    "    return DataFrame\n"
   ]
  },
  {
   "cell_type": "code",
   "execution_count": 79,
   "metadata": {
    "collapsed": false
   },
   "outputs": [
    {
     "data": {
      "text/plain": [
       "'2008q3'"
      ]
     },
     "execution_count": 79,
     "metadata": {},
     "output_type": "execute_result"
    }
   ],
   "source": [
    "def get_recession_start():\n",
    "    '''Returns the year and quarter of the recession start time as a \n",
    "    string value in a format such as 2005q3'''\n",
    " \n",
    "    file = 'gdplev.xls'\n",
    "\n",
    "    names = ['quarter', 'gdp_current', 'gp_constant']    \n",
    "\n",
    "    data=pd.read_excel(file, skiprows = 220,parse_cols='E:G',header=None, names=names)\n",
    "    data['diff'] = data['gp_constant'].pct_change()\n",
    "    data['label']= data['diff'].map(lambda x: 1 if x>0  else 0 ) \n",
    "    #data['year'] = data.quarter.str[:4]\n",
    "\n",
    "    temp=data.label.astype(str).str.cat()\n",
    "    temp = temp.index('000011')\n",
    "    temp =  pd.Series(range(temp, temp + 4))\n",
    "    temp = data.iloc[temp]\n",
    "\n",
    "    temp = temp.iloc[0:1,0:1].to_string(index=False,header=False)\n",
    "\n",
    "    return temp\n",
    "\n",
    "get_recession_start()"
   ]
  },
  {
   "cell_type": "code",
   "execution_count": 80,
   "metadata": {
    "collapsed": false
   },
   "outputs": [
    {
     "data": {
      "text/plain": [
       "'2009q4'"
      ]
     },
     "execution_count": 80,
     "metadata": {},
     "output_type": "execute_result"
    }
   ],
   "source": [
    "def get_recession_end():\n",
    "    '''Returns the year and quarter of the recession end time as a \n",
    "    string value in a format such as 2005q3'''\n",
    "       \n",
    "    file = 'gdplev.xls'\n",
    "\n",
    "    names = ['quarter', 'gdp_current', 'gp_constant']    \n",
    "\n",
    "    data=pd.read_excel(file, skiprows = 220,parse_cols='E:G',header=None, names=names)\n",
    "    data['diff'] = data['gp_constant'].pct_change()\n",
    "    data['label']= data['diff'].map(lambda x: 1 if x>0  else 0 ) \n",
    "    #data['year'] = data.quarter.str[:4]\n",
    "\n",
    "    temp=data.label.astype(str).str.cat()\n",
    "    temp = temp.index('000011')\n",
    "    temp =  pd.Series(range(temp, temp + 6))\n",
    "    temp = data.iloc[temp]\n",
    "\n",
    "    temp = temp.iloc[5:6,0:1].to_string(index=False,header=False)\n",
    "\n",
    "    return temp\n",
    "\n",
    "get_recession_end()"
   ]
  },
  {
   "cell_type": "code",
   "execution_count": 81,
   "metadata": {
    "collapsed": false
   },
   "outputs": [
    {
     "data": {
      "text/plain": [
       "'2009q2'"
      ]
     },
     "execution_count": 81,
     "metadata": {},
     "output_type": "execute_result"
    }
   ],
   "source": [
    "def get_recession_bottom():\n",
    "    '''Returns the year and quarter of the recession bottom time as a \n",
    "    string value in a format such as 2005q3'''\n",
    "    file = 'gdplev.xls'\n",
    "\n",
    "    names = ['quarter', 'gdp_current', 'gp_constant']    \n",
    "\n",
    "    data=pd.read_excel(file, skiprows = 220,parse_cols='E:G',header=None, names=names)\n",
    "    data['diff'] = data['gp_constant'].pct_change()\n",
    "    data['label']= data['diff'].map(lambda x: 1 if x>0  else 0 ) \n",
    "    #data['year'] = data.quarter.str[:4]\n",
    "\n",
    "    temp=data.label.astype(str).str.cat()\n",
    "    temp = temp.index('000011')\n",
    "    temp =  pd.Series(range(temp, temp + 6))\n",
    "    temp = data.iloc[temp]\n",
    "\n",
    "    bottom = temp.gp_constant.idxmin()\n",
    "    temp = temp.loc[37,['quarter']].to_string(index=False,header=False)\n",
    "\n",
    "    return temp\n",
    "\n",
    "get_recession_bottom() "
   ]
  },
  {
   "cell_type": "code",
   "execution_count": 96,
   "metadata": {
    "collapsed": false
   },
   "outputs": [],
   "source": [
    "def convert_housing_data_to_quarters():\n",
    "    '''Converts the housing data to quarters and returns it as mean \n",
    "    values in a dataframe. This dataframe should be a dataframe with\n",
    "    columns for 2000q1 through 2016q3, and should have a multi-index\n",
    "    in the shape of [\"State\",\"RegionName\"].\n",
    "    \n",
    "    Note: Quarters are defined in the assignment description, they are\n",
    "    not arbitrary three month periods.\n",
    "    \n",
    "    The resulting dataframe should have 67 columns, and 10,730 rows.\n",
    "    '''  \n",
    "\n",
    "    file = 'City_Zhvi_AllHomes.csv'\n",
    "    \n",
    "    data = pd.read_csv(file,index_col=['RegionID', 'RegionName','State'])\n",
    "    data = data.loc[:, '2000-01':'2016-08']\n",
    "    cols = data.columns.values.tolist()\n",
    "\n",
    "    def convert_to_quarter(d):\n",
    "        ts = pd.Timestamp(pd.to_datetime(d,format='%Y-%m'))\n",
    "        return \"{}Q{}\".format(ts.year, ts.quarter)\n",
    "\n",
    "    # Python 3 map wrap in list\n",
    "    cols_new = list(map(convert_to_quarter,cols))\n",
    "    cols_new =  [x.lower() for x in cols_new]\n",
    "\n",
    "    # to replace columns, create a new dict with old and new names\n",
    "    col_new_dict = {i:j for i,j in zip(cols,cols_new)}\n",
    "    # and then just use rename method\n",
    "    data.rename(columns=col_new_dict, inplace=True)\n",
    "\n",
    "    data=data.reset_index()\n",
    "    data = pd.melt(data,id_vars=['RegionID', 'RegionName','State'])\n",
    "    #grouped = data.stack()\n",
    "    #grouped = data.groupby(['State','RegionName','variable'])['value'].reset_index()\n",
    "\n",
    "    #temp = pd.melt(data,id_vars=['RegionName','State'])\n",
    "    temp = pd.pivot_table(data, values='value', index=['RegionID','RegionName', 'State'], columns=['variable'], aggfunc=np.mean).reset_index()\n",
    "\n",
    "    temp['myState'] = temp['State']\n",
    "    temp['myState'] = temp['State'].replace(states, inplace=True)\n",
    "    temp.columns.name = None\n",
    "    temp.set_index(['State','RegionName'],inplace=True)\n",
    "    temp = temp.drop('RegionID', 1)\n",
    "    temp = temp.drop('myState', 1)\n",
    "    \n",
    "    return temp"
   ]
  },
  {
   "cell_type": "code",
   "execution_count": 94,
   "metadata": {
    "collapsed": false
   },
   "outputs": [],
   "source": []
  },
  {
   "cell_type": "code",
   "execution_count": 106,
   "metadata": {
    "collapsed": false
   },
   "outputs": [
    {
     "data": {
      "text/plain": [
       "(True, 0.007863565232848908, 'university town')"
      ]
     },
     "execution_count": 106,
     "metadata": {},
     "output_type": "execute_result"
    }
   ],
   "source": [
    "def run_ttest():\n",
    "    '''First creates new data showing the decline or growth of housing prices\n",
    "    between the recession start and the recession bottom. Then runs a ttest\n",
    "    comparing the university town values to the non-university towns values, \n",
    "    return whether the alternative hypothesis (that the two groups are the same)\n",
    "    is true or not as well as the p-value of the confidence. \n",
    "    \n",
    "    Return the tuple (different, p, better) where different=True if the t-test is\n",
    "    True at a p<0.01 (we reject the null hypothesis), or different=False if \n",
    "    otherwise (we cannot reject the null hypothesis). The variable p should\n",
    "    be equal to the exact p value returned from scipy.stats.ttest_ind(). The\n",
    "    value for better should be either \"university town\" or \"non-university town\"\n",
    "    depending on which has a lower mean price ratio (which is equivilent to a\n",
    "    reduced market loss).'''\n",
    "    \n",
    "    #university_towns = get_list_of_university_towns()\n",
    "    \n",
    "    #housing_df = convert_housing_data_to_quarters()\n",
    "    \n",
    "    prices_begin = housing_df['2008q2']\n",
    "    prices_end = housing_df['2009q4']\n",
    "    \n",
    "    housing_df['ratio'] = prices_begin/prices_end #The higher this ratio, the worse\n",
    "    \n",
    "    university_towns = university_towns.set_index(['State', 'RegionName'])\n",
    "    \n",
    "    ratio_college = housing_df.loc[list(university_towns.index)]['ratio'].dropna()\n",
    "    \n",
    "    ratio_not_college_indices = set(housing_df.index) - set(ratio_college.index)\n",
    "    \n",
    "    ratio_not_college = housing_df.loc[list(ratio_not_college_indices),:]['ratio'].dropna()\n",
    "        \n",
    "    statistic, p_value = tuple(ttest_ind(ratio_college, ratio_not_college))\n",
    "    \n",
    "    outcome = statistic < 0\n",
    "    \n",
    "    different = p_value < 0.01\n",
    "    \n",
    "    better = [\"non-university town\", \"university town\"]\n",
    "    \n",
    "    return (different, p_value, better[outcome])\n",
    "\n",
    "run_ttest()"
   ]
  },
  {
   "cell_type": "code",
   "execution_count": null,
   "metadata": {
    "collapsed": true
   },
   "outputs": [],
   "source": []
  }
 ],
 "metadata": {
  "coursera": {
   "course_slug": "python-data-analysis",
   "graded_item_id": "Il9Fx",
   "launcher_item_id": "TeDW0",
   "part_id": "WGlun"
  },
  "kernelspec": {
   "display_name": "Python 3",
   "language": "python",
   "name": "python3"
  },
  "language_info": {
   "codemirror_mode": {
    "name": "ipython",
    "version": 3
   },
   "file_extension": ".py",
   "mimetype": "text/x-python",
   "name": "python",
   "nbconvert_exporter": "python",
   "pygments_lexer": "ipython3",
   "version": "3.5.2"
  }
 },
 "nbformat": 4,
 "nbformat_minor": 0
}
